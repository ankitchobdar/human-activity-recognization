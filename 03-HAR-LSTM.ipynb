{
 "cells": [
  {
   "cell_type": "code",
   "execution_count": 1,
   "metadata": {},
   "outputs": [],
   "source": [
    "# Importing Libraries"
   ]
  },
  {
   "cell_type": "code",
   "execution_count": 2,
   "metadata": {},
   "outputs": [],
   "source": [
    "import pandas as pd\n",
    "import numpy as np"
   ]
  },
  {
   "cell_type": "code",
   "execution_count": 3,
   "metadata": {},
   "outputs": [],
   "source": [
    "# Activities are the class labels\n",
    "# It is a 6 class classification\n",
    "ACTIVITIES = {\n",
    "    0: 'WALKING',\n",
    "    1: 'WALKING_UPSTAIRS',\n",
    "    2: 'WALKING_DOWNSTAIRS',\n",
    "    3: 'SITTING',\n",
    "    4: 'STANDING',\n",
    "    5: 'LAYING',\n",
    "}\n",
    "\n",
    "# Utility function to print the confusion matrix\n",
    "def confusion_matrix(Y_true, Y_pred):\n",
    "    Y_true = pd.Series([ACTIVITIES[y] for y in np.argmax(Y_true, axis=1)])\n",
    "    Y_pred = pd.Series([ACTIVITIES[y] for y in np.argmax(Y_pred, axis=1)])\n",
    "\n",
    "    return pd.crosstab(Y_true, Y_pred, rownames=['True'], colnames=['Pred'])"
   ]
  },
  {
   "cell_type": "markdown",
   "metadata": {},
   "source": [
    "### Data"
   ]
  },
  {
   "cell_type": "code",
   "execution_count": 4,
   "metadata": {},
   "outputs": [],
   "source": [
    "# Data directory\n",
    "DATADIR = 'UCI_HAR_Dataset'"
   ]
  },
  {
   "cell_type": "code",
   "execution_count": 5,
   "metadata": {},
   "outputs": [],
   "source": [
    "# Raw data signals\n",
    "# Signals are from Accelerometer and Gyroscope\n",
    "# The signals are in x,y,z directions\n",
    "# Sensor signals are filtered to have only body acceleration\n",
    "# excluding the acceleration due to gravity\n",
    "# Triaxial acceleration from the accelerometer is total acceleration\n",
    "SIGNALS = [\n",
    "    \"body_acc_x\",\n",
    "    \"body_acc_y\",\n",
    "    \"body_acc_z\",\n",
    "    \"body_gyro_x\",\n",
    "    \"body_gyro_y\",\n",
    "    \"body_gyro_z\",\n",
    "    \"total_acc_x\",\n",
    "    \"total_acc_y\",\n",
    "    \"total_acc_z\"\n",
    "]"
   ]
  },
  {
   "cell_type": "code",
   "execution_count": 23,
   "metadata": {},
   "outputs": [],
   "source": [
    "# Utility function to read the data from csv file\n",
    "def _read_csv(filename):\n",
    "    return pd.read_csv(filename, delim_whitespace=True, header=None)\n",
    "\n",
    "# Utility function to load the load\n",
    "def load_signals(subset):\n",
    "    signals_data = []\n",
    "\n",
    "    for signal in SIGNALS:\n",
    "        filename = f'UCI_HAR_Dataset/{subset}/Inertial Signals/{signal}_{subset}.txt'\n",
    "        signals_data.append(\n",
    "            _read_csv(filename).values\n",
    "        ) \n",
    "\n",
    "    # Transpose is used to change the dimensionality of the output,\n",
    "    # aggregating the signals by combination of sample/timestep.\n",
    "    # Resultant shape is (7352 train/2947 test samples, 128 timesteps, 9 signals)\n",
    "    return np.transpose(signals_data, (1, 2, 0))"
   ]
  },
  {
   "cell_type": "code",
   "execution_count": 24,
   "metadata": {},
   "outputs": [],
   "source": [
    "def load_y(subset):\n",
    "    \"\"\"\n",
    "    The objective that we are trying to predict is a integer, from 1 to 6,\n",
    "    that represents a human activity. We return a binary representation of \n",
    "    every sample objective as a 6 bits vector using One Hot Encoding\n",
    "    (https://pandas.pydata.org/pandas-docs/stable/generated/pandas.get_dummies.html)\n",
    "    \"\"\"\n",
    "    filename = f'UCI_HAR_Dataset/{subset}/y_{subset}.txt'\n",
    "    y = _read_csv(filename)[0]\n",
    "\n",
    "    return pd.get_dummies(y).values"
   ]
  },
  {
   "cell_type": "code",
   "execution_count": 8,
   "metadata": {},
   "outputs": [],
   "source": [
    "def load_data():\n",
    "    \"\"\"\n",
    "    Obtain the dataset from multiple files.\n",
    "    Returns: X_train, X_test, y_train, y_test\n",
    "    \"\"\"\n",
    "    X_train, X_test = load_signals('train'), load_signals('test')\n",
    "    y_train, y_test = load_y('train'), load_y('test')\n",
    "\n",
    "    return X_train, X_test, y_train, y_test"
   ]
  },
  {
   "cell_type": "code",
   "execution_count": 9,
   "metadata": {},
   "outputs": [],
   "source": [
    "# Importing tensorflow\n",
    "np.random.seed(42)\n",
    "import tensorflow as tf"
   ]
  },
  {
   "cell_type": "code",
   "execution_count": 11,
   "metadata": {},
   "outputs": [],
   "source": [
    "from tensorflow import keras"
   ]
  },
  {
   "cell_type": "code",
   "execution_count": 15,
   "metadata": {},
   "outputs": [],
   "source": [
    "# Importing libraries\n",
    "from tensorflow.keras.models import Sequential\n",
    "from tensorflow.keras.layers import LSTM\n",
    "from tensorflow.keras.layers import Dense, Dropout"
   ]
  },
  {
   "cell_type": "code",
   "execution_count": 16,
   "metadata": {},
   "outputs": [],
   "source": [
    "# Initializing parameters\n",
    "epochs = 30\n",
    "batch_size = 16\n",
    "n_hidden = 32"
   ]
  },
  {
   "cell_type": "code",
   "execution_count": 18,
   "metadata": {},
   "outputs": [],
   "source": [
    "# Utility function to count the number of classes\n",
    "def _count_classes(y):\n",
    "    return len(set([tuple(category) for category in y]))"
   ]
  },
  {
   "cell_type": "code",
   "execution_count": 25,
   "metadata": {},
   "outputs": [],
   "source": [
    "# Loading the train and test data\n",
    "X_train, X_test, Y_train, Y_test = load_data()"
   ]
  },
  {
   "cell_type": "code",
   "execution_count": 26,
   "metadata": {},
   "outputs": [
    {
     "name": "stdout",
     "output_type": "stream",
     "text": [
      "128\n",
      "9\n",
      "7352\n"
     ]
    }
   ],
   "source": [
    "timesteps = len(X_train[0])\n",
    "input_dim = len(X_train[0][0])\n",
    "n_classes = _count_classes(Y_train)\n",
    "\n",
    "print(timesteps)\n",
    "print(input_dim)\n",
    "print(len(X_train))"
   ]
  },
  {
   "cell_type": "markdown",
   "metadata": {},
   "source": [
    "- Defining the Architecture of LSTM"
   ]
  },
  {
   "cell_type": "code",
   "execution_count": 27,
   "metadata": {},
   "outputs": [
    {
     "name": "stdout",
     "output_type": "stream",
     "text": [
      "Model: \"sequential\"\n",
      "_________________________________________________________________\n",
      "Layer (type)                 Output Shape              Param #   \n",
      "=================================================================\n",
      "lstm (LSTM)                  (None, 32)                5376      \n",
      "_________________________________________________________________\n",
      "dropout (Dropout)            (None, 32)                0         \n",
      "_________________________________________________________________\n",
      "dense (Dense)                (None, 6)                 198       \n",
      "=================================================================\n",
      "Total params: 5,574\n",
      "Trainable params: 5,574\n",
      "Non-trainable params: 0\n",
      "_________________________________________________________________\n"
     ]
    }
   ],
   "source": [
    "# Initiliazing the sequential model\n",
    "model = Sequential()\n",
    "# Configuring the parameters\n",
    "model.add(LSTM(n_hidden, input_shape=(timesteps, input_dim)))\n",
    "# Adding a dropout layer\n",
    "model.add(Dropout(0.5))\n",
    "# Adding a dense output layer with sigmoid activation\n",
    "model.add(Dense(n_classes, activation='sigmoid'))\n",
    "model.summary()"
   ]
  },
  {
   "cell_type": "code",
   "execution_count": 28,
   "metadata": {},
   "outputs": [],
   "source": [
    "# Compiling the model\n",
    "model.compile(loss='categorical_crossentropy',\n",
    "              optimizer='rmsprop',\n",
    "              metrics=['accuracy'])"
   ]
  },
  {
   "cell_type": "code",
   "execution_count": 29,
   "metadata": {},
   "outputs": [
    {
     "name": "stdout",
     "output_type": "stream",
     "text": [
      "Epoch 1/30\n",
      "460/460 [==============================] - 16s 31ms/step - loss: 1.3175 - accuracy: 0.4683 - val_loss: 1.1413 - val_accuracy: 0.5273\n",
      "Epoch 2/30\n",
      "460/460 [==============================] - 14s 30ms/step - loss: 0.7967 - accuracy: 0.6382 - val_loss: 0.6778 - val_accuracy: 0.7044\n",
      "Epoch 3/30\n",
      "460/460 [==============================] - 14s 30ms/step - loss: 0.6046 - accuracy: 0.7539 - val_loss: 0.6884 - val_accuracy: 0.7435\n",
      "Epoch 4/30\n",
      "460/460 [==============================] - 14s 30ms/step - loss: 0.5133 - accuracy: 0.8099 - val_loss: 0.5713 - val_accuracy: 0.8130\n",
      "Epoch 5/30\n",
      "460/460 [==============================] - 14s 30ms/step - loss: 0.4284 - accuracy: 0.8703 - val_loss: 0.5202 - val_accuracy: 0.8351\n",
      "Epoch 6/30\n",
      "460/460 [==============================] - 14s 30ms/step - loss: 0.3339 - accuracy: 0.8998 - val_loss: 0.4960 - val_accuracy: 0.8476\n",
      "Epoch 7/30\n",
      "460/460 [==============================] - 14s 30ms/step - loss: 0.2639 - accuracy: 0.9154 - val_loss: 0.4132 - val_accuracy: 0.8717\n",
      "Epoch 8/30\n",
      "460/460 [==============================] - 14s 30ms/step - loss: 0.2417 - accuracy: 0.9258 - val_loss: 0.4458 - val_accuracy: 0.8670\n",
      "Epoch 9/30\n",
      "460/460 [==============================] - 14s 30ms/step - loss: 0.2236 - accuracy: 0.9310 - val_loss: 0.5103 - val_accuracy: 0.8721\n",
      "Epoch 10/30\n",
      "460/460 [==============================] - 14s 30ms/step - loss: 0.2401 - accuracy: 0.9252 - val_loss: 0.4826 - val_accuracy: 0.8578\n",
      "Epoch 11/30\n",
      "460/460 [==============================] - 14s 30ms/step - loss: 0.2125 - accuracy: 0.9327 - val_loss: 0.5742 - val_accuracy: 0.8436\n",
      "Epoch 12/30\n",
      "460/460 [==============================] - 14s 30ms/step - loss: 0.1813 - accuracy: 0.9401 - val_loss: 0.3953 - val_accuracy: 0.8921\n",
      "Epoch 13/30\n",
      "460/460 [==============================] - 14s 30ms/step - loss: 0.2010 - accuracy: 0.9372 - val_loss: 0.5169 - val_accuracy: 0.8565\n",
      "Epoch 14/30\n",
      "460/460 [==============================] - 14s 30ms/step - loss: 0.1882 - accuracy: 0.9387 - val_loss: 0.4125 - val_accuracy: 0.8965\n",
      "Epoch 15/30\n",
      "460/460 [==============================] - 14s 30ms/step - loss: 0.1932 - accuracy: 0.9371 - val_loss: 0.5770 - val_accuracy: 0.8595\n",
      "Epoch 16/30\n",
      "460/460 [==============================] - 14s 30ms/step - loss: 0.1925 - accuracy: 0.9443 - val_loss: 0.3802 - val_accuracy: 0.8867\n",
      "Epoch 17/30\n",
      "460/460 [==============================] - 14s 31ms/step - loss: 0.1528 - accuracy: 0.9477 - val_loss: 0.3778 - val_accuracy: 0.9013\n",
      "Epoch 18/30\n",
      "460/460 [==============================] - 14s 30ms/step - loss: 0.1727 - accuracy: 0.9467 - val_loss: 0.3770 - val_accuracy: 0.9060\n",
      "Epoch 19/30\n",
      "460/460 [==============================] - 14s 30ms/step - loss: 0.1615 - accuracy: 0.9423 - val_loss: 0.3481 - val_accuracy: 0.9074\n",
      "Epoch 20/30\n",
      "460/460 [==============================] - 14s 30ms/step - loss: 0.1434 - accuracy: 0.9455 - val_loss: 0.4262 - val_accuracy: 0.9046\n",
      "Epoch 21/30\n",
      "460/460 [==============================] - 14s 30ms/step - loss: 0.1584 - accuracy: 0.9513 - val_loss: 0.4565 - val_accuracy: 0.8982\n",
      "Epoch 22/30\n",
      "460/460 [==============================] - 14s 29ms/step - loss: 0.1422 - accuracy: 0.9472 - val_loss: 0.4792 - val_accuracy: 0.8884\n",
      "Epoch 23/30\n",
      "460/460 [==============================] - 14s 29ms/step - loss: 0.1630 - accuracy: 0.9446 - val_loss: 0.3826 - val_accuracy: 0.8996\n",
      "Epoch 24/30\n",
      "460/460 [==============================] - 14s 29ms/step - loss: 0.1416 - accuracy: 0.9465 - val_loss: 0.3895 - val_accuracy: 0.9053\n",
      "Epoch 25/30\n",
      "460/460 [==============================] - 14s 30ms/step - loss: 0.1425 - accuracy: 0.9459 - val_loss: 0.3819 - val_accuracy: 0.9053\n",
      "Epoch 26/30\n",
      "460/460 [==============================] - 14s 30ms/step - loss: 0.1227 - accuracy: 0.9546 - val_loss: 0.3855 - val_accuracy: 0.9084\n",
      "Epoch 27/30\n",
      "460/460 [==============================] - 14s 30ms/step - loss: 0.1438 - accuracy: 0.9479 - val_loss: 0.4437 - val_accuracy: 0.8945\n",
      "Epoch 28/30\n",
      "460/460 [==============================] - 14s 29ms/step - loss: 0.1380 - accuracy: 0.9484 - val_loss: 0.3658 - val_accuracy: 0.9077\n",
      "Epoch 29/30\n",
      "460/460 [==============================] - 14s 30ms/step - loss: 0.1411 - accuracy: 0.9518 - val_loss: 0.5014 - val_accuracy: 0.8904\n",
      "Epoch 30/30\n",
      "460/460 [==============================] - 14s 29ms/step - loss: 0.1312 - accuracy: 0.9493 - val_loss: 0.3695 - val_accuracy: 0.9006\n"
     ]
    },
    {
     "data": {
      "text/plain": [
       "<tensorflow.python.keras.callbacks.History at 0x2ee070bdc70>"
      ]
     },
     "execution_count": 29,
     "metadata": {},
     "output_type": "execute_result"
    }
   ],
   "source": [
    "# Training the model\n",
    "model.fit(X_train,\n",
    "          Y_train,\n",
    "          batch_size=batch_size,\n",
    "          validation_data=(X_test, Y_test),\n",
    "          epochs=epochs)"
   ]
  },
  {
   "cell_type": "code",
   "execution_count": 30,
   "metadata": {},
   "outputs": [
    {
     "name": "stdout",
     "output_type": "stream",
     "text": [
      "Pred                LAYING  SITTING  STANDING  WALKING  WALKING_DOWNSTAIRS  \\\n",
      "True                                                                         \n",
      "LAYING                 510        0         0        0                   0   \n",
      "SITTING                  0      373       116        0                   1   \n",
      "STANDING                 0       84       448        0                   0   \n",
      "WALKING                  0        2         1      453                  13   \n",
      "WALKING_DOWNSTAIRS       0        0         0        3                 413   \n",
      "WALKING_UPSTAIRS         1        4         1        5                   3   \n",
      "\n",
      "Pred                WALKING_UPSTAIRS  \n",
      "True                                  \n",
      "LAYING                            27  \n",
      "SITTING                            1  \n",
      "STANDING                           0  \n",
      "WALKING                           27  \n",
      "WALKING_DOWNSTAIRS                 4  \n",
      "WALKING_UPSTAIRS                 457  \n"
     ]
    }
   ],
   "source": [
    "# Confusion Matrix\n",
    "print(confusion_matrix(Y_test, model.predict(X_test)))"
   ]
  },
  {
   "cell_type": "code",
   "execution_count": 31,
   "metadata": {},
   "outputs": [
    {
     "name": "stdout",
     "output_type": "stream",
     "text": [
      "93/93 [==============================] - 1s 8ms/step - loss: 0.3695 - accuracy: 0.9006\n"
     ]
    }
   ],
   "source": [
    "score = model.evaluate(X_test, Y_test)"
   ]
  },
  {
   "cell_type": "code",
   "execution_count": 32,
   "metadata": {},
   "outputs": [
    {
     "data": {
      "text/plain": [
       "[0.36945927143096924, 0.9005768299102783]"
      ]
     },
     "execution_count": 32,
     "metadata": {},
     "output_type": "execute_result"
    }
   ],
   "source": [
    "score"
   ]
  },
  {
   "cell_type": "markdown",
   "metadata": {},
   "source": [
    "- With a simple 2 layer architecture we got 90.06% accuracy and a loss of 0.36\n",
    "- We need to further imporve the performace with Hyperparameter tuning"
   ]
  },
  {
   "cell_type": "markdown",
   "metadata": {},
   "source": [
    "### Hyper Parameter Tuning"
   ]
  },
  {
   "cell_type": "code",
   "execution_count": null,
   "metadata": {},
   "outputs": [],
   "source": []
  }
 ],
 "metadata": {
  "kernelspec": {
   "display_name": "Python 3",
   "language": "python",
   "name": "python3"
  },
  "language_info": {
   "codemirror_mode": {
    "name": "ipython",
    "version": 3
   },
   "file_extension": ".py",
   "mimetype": "text/x-python",
   "name": "python",
   "nbconvert_exporter": "python",
   "pygments_lexer": "ipython3",
   "version": "3.8.8"
  }
 },
 "nbformat": 4,
 "nbformat_minor": 2
}
